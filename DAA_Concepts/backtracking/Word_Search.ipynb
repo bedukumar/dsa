{
 "cells": [
  {
   "cell_type": "code",
   "execution_count": 1,
   "metadata": {},
   "outputs": [],
   "source": [
    "#\"./Screenshot 2022-11-07 012636.png\"\n",
    "from PIL import Image\n",
    "im = Image.open(r\"./screenshots/Screenshot 2022-11-07 012636.png\")\n",
    "im.show()\n"
   ]
  },
  {
   "cell_type": "code",
   "execution_count": 8,
   "metadata": {},
   "outputs": [],
   "source": [
    "from typing import List\n",
    "class S:\n",
    "    def exist(self,board:List[List[str]],word:str)->bool:\n",
    "        ROWS,COLS=len(board),len(board[0])\n",
    "        path=set()\n",
    "        def dfs(r,c,i):\n",
    "            if i == len(word):\n",
    "                return True \n",
    "            if (r<0 or c<0 or r>= ROWS or c>=COLS or word[i] != board[r][c] or (r,c) in path):\n",
    "                return False\n",
    "            path.add((r,c))\n",
    "            res=(dfs(r+1,c,i+1) or \n",
    "                dfs(r-1,c,i+1) or \n",
    "                dfs(r,c+1,i+1) or \n",
    "                dfs(r,c-1,i+1) )\n",
    "            path.remove((r,c))\n",
    "            return res\n",
    "        for r in range(ROWS):\n",
    "            for c in range(COLS):\n",
    "                if dfs(r,c,0): return True\n",
    "        return False\n"
   ]
  },
  {
   "cell_type": "code",
   "execution_count": 9,
   "metadata": {},
   "outputs": [
    {
     "name": "stdout",
     "output_type": "stream",
     "text": [
      "True\n"
     ]
    }
   ],
   "source": [
    "s=S()\n",
    "L = [[\"A\", \"B\", \"C\", \"E\"], [\"S\", \"F\", \"C\", \"S\"], [\"A\", \"D\", \"E\", \"E\"]]\n",
    "word = \"ABCCED\"\n",
    "print(s.exist(L,word))"
   ]
  }
 ],
 "metadata": {
  "kernelspec": {
   "display_name": "Python 3.10.1 64-bit",
   "language": "python",
   "name": "python3"
  },
  "language_info": {
   "codemirror_mode": {
    "name": "ipython",
    "version": 3
   },
   "file_extension": ".py",
   "mimetype": "text/x-python",
   "name": "python",
   "nbconvert_exporter": "python",
   "pygments_lexer": "ipython3",
   "version": "3.10.1"
  },
  "orig_nbformat": 4,
  "vscode": {
   "interpreter": {
    "hash": "18c7b70df87820e1c561e16ed9746753bbc2d9ccd110e75275b41fb4d4e39832"
   }
  }
 },
 "nbformat": 4,
 "nbformat_minor": 2
}

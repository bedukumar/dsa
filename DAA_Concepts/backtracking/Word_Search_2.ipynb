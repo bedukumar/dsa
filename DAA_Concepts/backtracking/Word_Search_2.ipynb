{
 "cells": [
  {
   "cell_type": "code",
   "execution_count": 1,
   "metadata": {},
   "outputs": [],
   "source": [
    "#\"./Screenshot 2022-11-07 015208.png\"\n",
    "from PIL import Image\n",
    "im = Image.open(r\"./screenshots/Screenshot 2022-11-07 015208.png\")\n",
    "im.show()\n"
   ]
  },
  {
   "cell_type": "code",
   "execution_count": null,
   "metadata": {},
   "outputs": [],
   "source": [
    "#Screenshot 2022-11-07 020323\n",
    "from PIL import Image\n",
    "im = Image.open(r\"./screenshots/Screenshot 2022-11-07 020323.png\")\n",
    "im.show()\n"
   ]
  },
  {
   "cell_type": "code",
   "execution_count": null,
   "metadata": {},
   "outputs": [],
   "source": []
  }
 ],
 "metadata": {
  "kernelspec": {
   "display_name": "Python 3.10.1 64-bit",
   "language": "python",
   "name": "python3"
  },
  "language_info": {
   "codemirror_mode": {
    "name": "ipython",
    "version": 3
   },
   "file_extension": ".py",
   "mimetype": "text/x-python",
   "name": "python",
   "nbconvert_exporter": "python",
   "pygments_lexer": "ipython3",
   "version": "3.10.1"
  },
  "orig_nbformat": 4,
  "vscode": {
   "interpreter": {
    "hash": "18c7b70df87820e1c561e16ed9746753bbc2d9ccd110e75275b41fb4d4e39832"
   }
  }
 },
 "nbformat": 4,
 "nbformat_minor": 2
}

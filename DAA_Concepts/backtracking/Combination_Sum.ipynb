{
 "cells": [
  {
   "cell_type": "code",
   "execution_count": 1,
   "metadata": {},
   "outputs": [],
   "source": [
    "#\"./Screenshot 2022-11-07 000832.png\"\n",
    "from PIL import Image\n",
    "im = Image.open(r\"./screenshots/Screenshot 2022-11-07 000832.png\")\n",
    "im.show()\n"
   ]
  },
  {
   "cell_type": "code",
   "execution_count": 4,
   "metadata": {},
   "outputs": [],
   "source": [
    "from typing import List\n",
    "class Solution:\n",
    "    def combinationSum(self, candidates: List[int], target: int) -> List[List[int]]:\n",
    "        res=[]\n",
    "        def dfs(i, cur, total):\n",
    "            if total==target:\n",
    "                res.append(cur.copy())\n",
    "                return\n",
    "            if i>=len(candidates) or total>target:\n",
    "                return\n",
    "            cur.append(candidates[i])\n",
    "            dfs(i,cur,total+candidates[i])\n",
    "            cur.pop()\n",
    "            dfs(i+1,cur,total)\n",
    "        dfs(0,[],0)\n",
    "        return res\n"
   ]
  },
  {
   "cell_type": "code",
   "execution_count": 5,
   "metadata": {},
   "outputs": [
    {
     "name": "stdout",
     "output_type": "stream",
     "text": [
      "[[2, 2, 3], [7]]\n"
     ]
    }
   ],
   "source": [
    "s=Solution()\n",
    "x=s.combinationSum([2,3,6,7],7)\n",
    "print(x)"
   ]
  }
 ],
 "metadata": {
  "kernelspec": {
   "display_name": "Python 3.10.1 64-bit",
   "language": "python",
   "name": "python3"
  },
  "language_info": {
   "codemirror_mode": {
    "name": "ipython",
    "version": 3
   },
   "file_extension": ".py",
   "mimetype": "text/x-python",
   "name": "python",
   "nbconvert_exporter": "python",
   "pygments_lexer": "ipython3",
   "version": "3.10.1"
  },
  "orig_nbformat": 4,
  "vscode": {
   "interpreter": {
    "hash": "18c7b70df87820e1c561e16ed9746753bbc2d9ccd110e75275b41fb4d4e39832"
   }
  }
 },
 "nbformat": 4,
 "nbformat_minor": 2
}
